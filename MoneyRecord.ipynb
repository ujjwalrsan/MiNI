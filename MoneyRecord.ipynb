{
 "cells": [
  {
   "cell_type": "code",
   "execution_count": 94,
   "id": "025abab7",
   "metadata": {},
   "outputs": [],
   "source": [
    "import pandas as pd\n",
    "import datetime "
   ]
  },
  {
   "cell_type": "code",
   "execution_count": 47,
   "id": "2cfbc1f4",
   "metadata": {},
   "outputs": [
    {
     "data": {
      "text/html": [
       "<div>\n",
       "<style scoped>\n",
       "    .dataframe tbody tr th:only-of-type {\n",
       "        vertical-align: middle;\n",
       "    }\n",
       "\n",
       "    .dataframe tbody tr th {\n",
       "        vertical-align: top;\n",
       "    }\n",
       "\n",
       "    .dataframe thead th {\n",
       "        text-align: right;\n",
       "    }\n",
       "</style>\n",
       "<table border=\"1\" class=\"dataframe\">\n",
       "  <thead>\n",
       "    <tr style=\"text-align: right;\">\n",
       "      <th></th>\n",
       "      <th>Date</th>\n",
       "      <th>Time</th>\n",
       "      <th>Purpose</th>\n",
       "      <th>Transacted amount</th>\n",
       "      <th>Balance</th>\n",
       "    </tr>\n",
       "  </thead>\n",
       "  <tbody>\n",
       "  </tbody>\n",
       "</table>\n",
       "</div>"
      ],
      "text/plain": [
       "Empty DataFrame\n",
       "Columns: [Date, Time, Purpose, Transacted amount, Balance]\n",
       "Index: []"
      ]
     },
     "execution_count": 47,
     "metadata": {},
     "output_type": "execute_result"
    }
   ],
   "source": [
    "#ADDING THE RECORDS TO THE XLSX FILE\n",
    "\n",
    "data = pd.read_excel('MoneyBook.xlsx')\n",
    "dataF = pd.DataFrame(data)\n",
    "dataF\n",
    "# rowN = pd.DataFrame({'Date': '20-july-2022','Time':'8:35 AM','Purpose':'BreakFast','Transacted amount':50,'Balance':950})\n",
    "# dataf = data.append(rowN)\n",
    "# dataf"
   ]
  },
  {
   "cell_type": "code",
   "execution_count": 118,
   "id": "3f1c6468",
   "metadata": {},
   "outputs": [
    {
     "name": "stdout",
     "output_type": "stream",
     "text": [
      "           Date      Time       Purpose  Transacted amount  Balance\n",
      "1  20-June-2022  09:39 AM     BreakFast                200      950\n",
      "2  20-June-2022  09:57 AM     BreakFast                500      450\n",
      "3  20-June-2022  10:02 AM  Bank Deposit               5000    -4550\n",
      "4  20-June-2022  10:02 AM          bank               5000    -9550\n",
      "5  20-June-2022  10:05 AM         urike                  5    -9555\n"
     ]
    }
   ],
   "source": [
    "i = 0 if dataF.index[:].size == 0 else dataF.index[-1]\n",
    "i+=1\n",
    "Balance =0 if dataF.index[:].size == 0 else dataF.iloc[-1][-1]\n",
    "wtdrw = bool(int(input('Withdrawl(1)/Deposit(0):')))\n",
    "amt = int(input('Enter the Transacted Amount :'))  \n",
    "purpose = input('Enter the Purpose of Transation : ')\n",
    "x = datetime.datetime.now()\n",
    "timemark = x.strftime('%I:%M %p')\n",
    "datemark = x.strftime(\"%d-%B-%Y\")\n",
    "\n",
    "row = pd.DataFrame({'Date': [datemark],'Time':[timemark],'Purpose':[purpose],'Transacted amount':[amt],'Balance':[Balance-amt if wtdrw else  Balance+amt]},index=[i])\n",
    "\n",
    "\n",
    "\n",
    "\n",
    "dataF=dataF.append(row)\n",
    "\n",
    "print(dataF)\n",
    "\n",
    "\n",
    "dataF.to_excel('MoneyBook.xlsx',index=True)\n"
   ]
  },
  {
   "cell_type": "code",
   "execution_count": 102,
   "id": "def3cb83",
   "metadata": {},
   "outputs": [],
   "source": [
    "\n",
    "dataF=pd.DataFrame()"
   ]
  },
  {
   "cell_type": "code",
   "execution_count": 104,
   "id": "873d18b8",
   "metadata": {},
   "outputs": [
    {
     "data": {
      "text/html": [
       "<div>\n",
       "<style scoped>\n",
       "    .dataframe tbody tr th:only-of-type {\n",
       "        vertical-align: middle;\n",
       "    }\n",
       "\n",
       "    .dataframe tbody tr th {\n",
       "        vertical-align: top;\n",
       "    }\n",
       "\n",
       "    .dataframe thead th {\n",
       "        text-align: right;\n",
       "    }\n",
       "</style>\n",
       "<table border=\"1\" class=\"dataframe\">\n",
       "  <thead>\n",
       "    <tr style=\"text-align: right;\">\n",
       "      <th></th>\n",
       "      <th>Date</th>\n",
       "      <th>Time</th>\n",
       "      <th>Purpose</th>\n",
       "      <th>Transacted amount</th>\n",
       "      <th>Balance</th>\n",
       "    </tr>\n",
       "  </thead>\n",
       "  <tbody>\n",
       "    <tr>\n",
       "      <th>1</th>\n",
       "      <td>20-June-2022</td>\n",
       "      <td>09:39 AM</td>\n",
       "      <td>BreakFast</td>\n",
       "      <td>200</td>\n",
       "      <td>950</td>\n",
       "    </tr>\n",
       "  </tbody>\n",
       "</table>\n",
       "</div>"
      ],
      "text/plain": [
       "           Date      Time    Purpose  Transacted amount  Balance\n",
       "1  20-June-2022  09:39 AM  BreakFast                200      950"
      ]
     },
     "execution_count": 104,
     "metadata": {},
     "output_type": "execute_result"
    }
   ],
   "source": [
    "dataF.index[:]\n",
    "dataF"
   ]
  },
  {
   "cell_type": "code",
   "execution_count": 81,
   "id": "e5cdb4c8",
   "metadata": {},
   "outputs": [
    {
     "data": {
      "text/plain": [
       "1"
      ]
     },
     "execution_count": 81,
     "metadata": {},
     "output_type": "execute_result"
    }
   ],
   "source": [
    "i = 0 if dataF.index[:].size == 0 else dataF.index[-1]\n",
    "i"
   ]
  },
  {
   "cell_type": "code",
   "execution_count": 106,
   "id": "2eaa528b",
   "metadata": {},
   "outputs": [
    {
     "data": {
      "text/plain": [
       "950"
      ]
     },
     "execution_count": 106,
     "metadata": {},
     "output_type": "execute_result"
    }
   ],
   "source": [
    "dataF.iloc[-1][-1]"
   ]
  },
  {
   "cell_type": "code",
   "execution_count": 117,
   "id": "0d225a00",
   "metadata": {},
   "outputs": [
    {
     "data": {
      "text/plain": [
       "False"
      ]
     },
     "execution_count": 117,
     "metadata": {},
     "output_type": "execute_result"
    }
   ],
   "source": [
    "bool(int(input(1)))"
   ]
  }
 ],
 "metadata": {
  "kernelspec": {
   "display_name": "Python 3.9.7 ('base')",
   "language": "python",
   "name": "python3"
  },
  "language_info": {
   "codemirror_mode": {
    "name": "ipython",
    "version": 3
   },
   "file_extension": ".py",
   "mimetype": "text/x-python",
   "name": "python",
   "nbconvert_exporter": "python",
   "pygments_lexer": "ipython3",
   "version": "3.9.7"
  },
  "vscode": {
   "interpreter": {
    "hash": "ad2bdc8ecc057115af97d19610ffacc2b4e99fae6737bb82f5d7fb13d2f2c186"
   }
  }
 },
 "nbformat": 4,
 "nbformat_minor": 5
}
