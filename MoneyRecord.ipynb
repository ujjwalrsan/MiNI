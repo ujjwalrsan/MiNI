{
 "cells": [
  {
   "cell_type": "code",
   "execution_count": 2,
   "id": "025abab7",
   "metadata": {},
   "outputs": [],
   "source": [
    "import pandas as pd\n",
    "import datetime "
   ]
  },
  {
   "cell_type": "code",
   "execution_count": 3,
   "id": "2cfbc1f4",
   "metadata": {},
   "outputs": [
    {
     "data": {
      "text/html": [
       "<div>\n",
       "<style scoped>\n",
       "    .dataframe tbody tr th:only-of-type {\n",
       "        vertical-align: middle;\n",
       "    }\n",
       "\n",
       "    .dataframe tbody tr th {\n",
       "        vertical-align: top;\n",
       "    }\n",
       "\n",
       "    .dataframe thead th {\n",
       "        text-align: right;\n",
       "    }\n",
       "</style>\n",
       "<table border=\"1\" class=\"dataframe\">\n",
       "  <thead>\n",
       "    <tr style=\"text-align: right;\">\n",
       "      <th></th>\n",
       "      <th>Unnamed: 0</th>\n",
       "      <th>Date</th>\n",
       "      <th>Time</th>\n",
       "      <th>Purpose</th>\n",
       "      <th>Transacted amount</th>\n",
       "      <th>Balance</th>\n",
       "    </tr>\n",
       "  </thead>\n",
       "  <tbody>\n",
       "    <tr>\n",
       "      <th>0</th>\n",
       "      <td>1</td>\n",
       "      <td>20-June-2022</td>\n",
       "      <td>10:06 AM</td>\n",
       "      <td>Deposited</td>\n",
       "      <td>1000</td>\n",
       "      <td>1000</td>\n",
       "    </tr>\n",
       "    <tr>\n",
       "      <th>1</th>\n",
       "      <td>2</td>\n",
       "      <td>20-June-2022</td>\n",
       "      <td>10:07 AM</td>\n",
       "      <td>Lunch</td>\n",
       "      <td>100</td>\n",
       "      <td>900</td>\n",
       "    </tr>\n",
       "    <tr>\n",
       "      <th>2</th>\n",
       "      <td>3</td>\n",
       "      <td>20-June-2022</td>\n",
       "      <td>10:08 AM</td>\n",
       "      <td>Coffee</td>\n",
       "      <td>50</td>\n",
       "      <td>850</td>\n",
       "    </tr>\n",
       "    <tr>\n",
       "      <th>3</th>\n",
       "      <td>4</td>\n",
       "      <td>20-June-2022</td>\n",
       "      <td>10:08 AM</td>\n",
       "      <td>coffee</td>\n",
       "      <td>20</td>\n",
       "      <td>830</td>\n",
       "    </tr>\n",
       "    <tr>\n",
       "      <th>4</th>\n",
       "      <td>5</td>\n",
       "      <td>20-June-2022</td>\n",
       "      <td>10:09 AM</td>\n",
       "      <td>Bank</td>\n",
       "      <td>5000</td>\n",
       "      <td>5830</td>\n",
       "    </tr>\n",
       "    <tr>\n",
       "      <th>5</th>\n",
       "      <td>6</td>\n",
       "      <td>20-June-2022</td>\n",
       "      <td>10:10 AM</td>\n",
       "      <td>0</td>\n",
       "      <td>0</td>\n",
       "      <td>5830</td>\n",
       "    </tr>\n",
       "  </tbody>\n",
       "</table>\n",
       "</div>"
      ],
      "text/plain": [
       "   Unnamed: 0          Date      Time    Purpose  Transacted amount  Balance\n",
       "0           1  20-June-2022  10:06 AM  Deposited               1000     1000\n",
       "1           2  20-June-2022  10:07 AM      Lunch                100      900\n",
       "2           3  20-June-2022  10:08 AM     Coffee                 50      850\n",
       "3           4  20-June-2022  10:08 AM     coffee                 20      830\n",
       "4           5  20-June-2022  10:09 AM       Bank               5000     5830\n",
       "5           6  20-June-2022  10:10 AM          0                  0     5830"
      ]
     },
     "execution_count": 3,
     "metadata": {},
     "output_type": "execute_result"
    }
   ],
   "source": [
    "#ADDING THE RECORDS TO THE XLSX FILE\n",
    "\n",
    "data = pd.read_excel('MoneyBook.xlsx')\n",
    "dataF = pd.DataFrame(data)\n",
    "dataF"
   ]
  },
  {
   "cell_type": "code",
   "execution_count": 16,
   "id": "3f1c6468",
   "metadata": {},
   "outputs": [
    {
     "name": "stdout",
     "output_type": "stream",
     "text": [
      "           Date      Time Purpose     Trsct Type  Trstcd amt  Balance\n",
      "1  20-June-2022  10:41 AM     dep    Deposit [+]         500      500\n",
      "2  20-June-2022  10:42 AM   debit  Withdrawn [-]         100      400\n"
     ]
    }
   ],
   "source": [
    "i = 0 if dataF.index[:].size == 0 else dataF.index[-1]\n",
    "i+=1\n",
    "\n",
    "Balance =0 if dataF.index[:].size == 0 else dataF.iloc[-1][-1]\n",
    "\n",
    "wtdrw = bool(int(input('Withdrawl(1)/Deposit(0):')))\n",
    "amt = int(input('Enter the Transacted Amount :'))  \n",
    "purpose = input('Enter the Purpose of Transation : ')\n",
    "\n",
    "x = datetime.datetime.now()\n",
    "timemark = x.strftime('%I:%M %p')\n",
    "datemark = x.strftime(\"%d-%B-%Y\")\n",
    "\n",
    "row = pd.DataFrame({'Date': [datemark],'Time':[timemark],'Purpose':[purpose],'Trsct Type': [\"Deposit [+]\" if not wtdrw else 'Withdrawn [-]'],'Trstcd amt':[amt],'Balance':[Balance-amt if wtdrw else  Balance+amt]},index=[i])\n",
    "\n",
    "\n",
    "\n",
    "\n",
    "dataF=dataF.append(row)\n",
    "\n",
    "print(dataF)\n",
    "dataF.to_excel('MoneyBook.xlsx',index=True)\n"
   ]
  },
  {
   "cell_type": "code",
   "execution_count": 14,
   "id": "def3cb83",
   "metadata": {},
   "outputs": [],
   "source": [
    "#cleaning the File making it empty\n",
    "dataF=pd.DataFrame()"
   ]
  },
  {
   "cell_type": "markdown",
   "id": "2b896824",
   "metadata": {},
   "source": []
  },
  {
   "cell_type": "code",
   "execution_count": 6,
   "id": "873d18b8",
   "metadata": {},
   "outputs": [
    {
     "data": {
      "text/html": [
       "<div>\n",
       "<style scoped>\n",
       "    .dataframe tbody tr th:only-of-type {\n",
       "        vertical-align: middle;\n",
       "    }\n",
       "\n",
       "    .dataframe tbody tr th {\n",
       "        vertical-align: top;\n",
       "    }\n",
       "\n",
       "    .dataframe thead th {\n",
       "        text-align: right;\n",
       "    }\n",
       "</style>\n",
       "<table border=\"1\" class=\"dataframe\">\n",
       "  <thead>\n",
       "    <tr style=\"text-align: right;\">\n",
       "      <th></th>\n",
       "    </tr>\n",
       "  </thead>\n",
       "  <tbody>\n",
       "  </tbody>\n",
       "</table>\n",
       "</div>"
      ],
      "text/plain": [
       "Empty DataFrame\n",
       "Columns: []\n",
       "Index: []"
      ]
     },
     "execution_count": 6,
     "metadata": {},
     "output_type": "execute_result"
    }
   ],
   "source": [
    "dataF.index[:]\n",
    "dataF"
   ]
  }
 ],
 "metadata": {
  "kernelspec": {
   "display_name": "Python 3.9.7 ('base')",
   "language": "python",
   "name": "python3"
  },
  "language_info": {
   "codemirror_mode": {
    "name": "ipython",
    "version": 3
   },
   "file_extension": ".py",
   "mimetype": "text/x-python",
   "name": "python",
   "nbconvert_exporter": "python",
   "pygments_lexer": "ipython3",
   "version": "3.9.7"
  },
  "vscode": {
   "interpreter": {
    "hash": "ad2bdc8ecc057115af97d19610ffacc2b4e99fae6737bb82f5d7fb13d2f2c186"
   }
  }
 },
 "nbformat": 4,
 "nbformat_minor": 5
}
