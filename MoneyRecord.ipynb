{
 "cells": [
  {
   "cell_type": "code",
   "execution_count": 94,
   "id": "025abab7",
   "metadata": {},
   "outputs": [],
   "source": [
    "import pandas as pd\n",
    "import datetime "
   ]
  },
  {
   "cell_type": "code",
   "execution_count": 47,
   "id": "2cfbc1f4",
   "metadata": {},
   "outputs": [
    {
     "data": {
      "text/html": [
       "<div>\n",
       "<style scoped>\n",
       "    .dataframe tbody tr th:only-of-type {\n",
       "        vertical-align: middle;\n",
       "    }\n",
       "\n",
       "    .dataframe tbody tr th {\n",
       "        vertical-align: top;\n",
       "    }\n",
       "\n",
       "    .dataframe thead th {\n",
       "        text-align: right;\n",
       "    }\n",
       "</style>\n",
       "<table border=\"1\" class=\"dataframe\">\n",
       "  <thead>\n",
       "    <tr style=\"text-align: right;\">\n",
       "      <th></th>\n",
       "      <th>Date</th>\n",
       "      <th>Time</th>\n",
       "      <th>Purpose</th>\n",
       "      <th>Transacted amount</th>\n",
       "      <th>Balance</th>\n",
       "    </tr>\n",
       "  </thead>\n",
       "  <tbody>\n",
       "  </tbody>\n",
       "</table>\n",
       "</div>"
      ],
      "text/plain": [
       "Empty DataFrame\n",
       "Columns: [Date, Time, Purpose, Transacted amount, Balance]\n",
       "Index: []"
      ]
     },
     "execution_count": 47,
     "metadata": {},
     "output_type": "execute_result"
    }
   ],
   "source": [
    "#ADDING THE RECORDS TO THE XLSX FILE\n",
    "\n",
    "data = pd.read_excel('MoneyBook.xlsx')\n",
    "dataF = pd.DataFrame(data)\n",
    "dataF"
   ]
  },
  {
   "cell_type": "code",
   "execution_count": 127,
   "id": "3f1c6468",
   "metadata": {},
   "outputs": [
    {
     "name": "stdout",
     "output_type": "stream",
     "text": [
      "           Date      Time    Purpose  Transacted amount  Balance\n",
      "1  20-June-2022  10:06 AM  Deposited               1000     1000\n",
      "2  20-June-2022  10:07 AM      Lunch                100      900\n",
      "3  20-June-2022  10:08 AM     Coffee                 50      850\n",
      "4  20-June-2022  10:08 AM     coffee                 20      830\n",
      "5  20-June-2022  10:09 AM       Bank               5000     5830\n",
      "6  20-June-2022  10:10 AM          0                  0     5830\n"
     ]
    }
   ],
   "source": [
    "i = 0 if dataF.index[:].size == 0 else dataF.index[-1]\n",
    "i+=1\n",
    "\n",
    "Balance =0 if dataF.index[:].size == 0 else dataF.iloc[-1][-1]\n",
    "\n",
    "wtdrw = bool(int(input('Withdrawl(1)/Deposit(0):')))\n",
    "amt = int(input('Enter the Transacted Amount :'))  \n",
    "purpose = input('Enter the Purpose of Transation : ')\n",
    "\n",
    "x = datetime.datetime.now()\n",
    "timemark = x.strftime('%I:%M %p')\n",
    "datemark = x.strftime(\"%d-%B-%Y\")\n",
    "\n",
    "row = pd.DataFrame({'Date': [datemark],'Time':[timemark],'Purpose':[purpose],'Transacted amount':[amt],'Balance':[Balance-amt if wtdrw else  Balance+amt]},index=[i])\n",
    "\n",
    "\n",
    "\n",
    "\n",
    "dataF=dataF.append(row)\n",
    "\n",
    "print(dataF)\n",
    "dataF.to_excel('MoneyBook.xlsx',index=True)\n"
   ]
  },
  {
   "cell_type": "code",
   "execution_count": 120,
   "id": "def3cb83",
   "metadata": {},
   "outputs": [],
   "source": [
    "#cleaning the File making it empty\n",
    "dataF=pd.DataFrame()"
   ]
  },
  {
   "cell_type": "code",
   "execution_count": 121,
   "id": "873d18b8",
   "metadata": {},
   "outputs": [
    {
     "data": {
      "text/html": [
       "<div>\n",
       "<style scoped>\n",
       "    .dataframe tbody tr th:only-of-type {\n",
       "        vertical-align: middle;\n",
       "    }\n",
       "\n",
       "    .dataframe tbody tr th {\n",
       "        vertical-align: top;\n",
       "    }\n",
       "\n",
       "    .dataframe thead th {\n",
       "        text-align: right;\n",
       "    }\n",
       "</style>\n",
       "<table border=\"1\" class=\"dataframe\">\n",
       "  <thead>\n",
       "    <tr style=\"text-align: right;\">\n",
       "      <th></th>\n",
       "    </tr>\n",
       "  </thead>\n",
       "  <tbody>\n",
       "  </tbody>\n",
       "</table>\n",
       "</div>"
      ],
      "text/plain": [
       "Empty DataFrame\n",
       "Columns: []\n",
       "Index: []"
      ]
     },
     "execution_count": 121,
     "metadata": {},
     "output_type": "execute_result"
    }
   ],
   "source": [
    "dataF.index[:]\n",
    "dataF"
   ]
  }
 ],
 "metadata": {
  "kernelspec": {
   "display_name": "Python 3.9.7 ('base')",
   "language": "python",
   "name": "python3"
  },
  "language_info": {
   "codemirror_mode": {
    "name": "ipython",
    "version": 3
   },
   "file_extension": ".py",
   "mimetype": "text/x-python",
   "name": "python",
   "nbconvert_exporter": "python",
   "pygments_lexer": "ipython3",
   "version": "3.9.7"
  },
  "vscode": {
   "interpreter": {
    "hash": "ad2bdc8ecc057115af97d19610ffacc2b4e99fae6737bb82f5d7fb13d2f2c186"
   }
  }
 },
 "nbformat": 4,
 "nbformat_minor": 5
}
